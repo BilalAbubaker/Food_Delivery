{
 "cells": [
  {
   "cell_type": "code",
   "execution_count": 1857,
   "metadata": {},
   "outputs": [],
   "source": [
    "import pandas as pd\n",
    "import numpy as np\n",
    "import seaborn as sns\n",
    "import matplotlib.pyplot as plt\n",
    "import pickle\n",
    "\n",
    "from sklearn.impute import SimpleImputer\n",
    "\n",
    "from sklearn.model_selection import train_test_split\n",
    "\n",
    "from sklearn.linear_model import LinearRegression\n",
    "from sklearn.ensemble import RandomForestRegressor\n",
    "from xgboost import XGBRegressor\n",
    "\n",
    "from sklearn.metrics import mean_squared_error, r2_score, mean_absolute_error\n",
    "import warnings\n",
    "warnings.filterwarnings('ignore')\n"
   ]
  },
  {
   "cell_type": "markdown",
   "metadata": {},
   "source": [
    "# Take a quick look at the data"
   ]
  },
  {
   "cell_type": "code",
   "execution_count": 1858,
   "metadata": {},
   "outputs": [],
   "source": [
    "#  https://www.kaggle.com/datasets/denkuznetz/food-delivery-time-prediction"
   ]
  },
  {
   "cell_type": "code",
   "execution_count": 1859,
   "metadata": {},
   "outputs": [],
   "source": [
    "df = pd.read_csv('C:\\Food Delivery _Times\\Food_Delivery_Times.csv')"
   ]
  },
  {
   "cell_type": "code",
   "execution_count": 1860,
   "metadata": {},
   "outputs": [
    {
     "name": "stdout",
     "output_type": "stream",
     "text": [
      "First few rows of the dataset and shape:\n",
      "(1000, 9)\n"
     ]
    },
    {
     "data": {
      "text/html": [
       "<div>\n",
       "<style scoped>\n",
       "    .dataframe tbody tr th:only-of-type {\n",
       "        vertical-align: middle;\n",
       "    }\n",
       "\n",
       "    .dataframe tbody tr th {\n",
       "        vertical-align: top;\n",
       "    }\n",
       "\n",
       "    .dataframe thead th {\n",
       "        text-align: right;\n",
       "    }\n",
       "</style>\n",
       "<table border=\"1\" class=\"dataframe\">\n",
       "  <thead>\n",
       "    <tr style=\"text-align: right;\">\n",
       "      <th></th>\n",
       "      <th>Order_ID</th>\n",
       "      <th>Distance_km</th>\n",
       "      <th>Weather</th>\n",
       "      <th>Traffic_Level</th>\n",
       "      <th>Time_of_Day</th>\n",
       "      <th>Vehicle_Type</th>\n",
       "      <th>Preparation_Time_min</th>\n",
       "      <th>Courier_Experience_yrs</th>\n",
       "      <th>Delivery_Time_min</th>\n",
       "    </tr>\n",
       "  </thead>\n",
       "  <tbody>\n",
       "    <tr>\n",
       "      <th>0</th>\n",
       "      <td>522</td>\n",
       "      <td>7.93</td>\n",
       "      <td>Windy</td>\n",
       "      <td>Low</td>\n",
       "      <td>Afternoon</td>\n",
       "      <td>Scooter</td>\n",
       "      <td>12</td>\n",
       "      <td>1.0</td>\n",
       "      <td>43</td>\n",
       "    </tr>\n",
       "    <tr>\n",
       "      <th>1</th>\n",
       "      <td>738</td>\n",
       "      <td>16.42</td>\n",
       "      <td>Clear</td>\n",
       "      <td>Medium</td>\n",
       "      <td>Evening</td>\n",
       "      <td>Bike</td>\n",
       "      <td>20</td>\n",
       "      <td>2.0</td>\n",
       "      <td>84</td>\n",
       "    </tr>\n",
       "    <tr>\n",
       "      <th>2</th>\n",
       "      <td>741</td>\n",
       "      <td>9.52</td>\n",
       "      <td>Foggy</td>\n",
       "      <td>Low</td>\n",
       "      <td>Night</td>\n",
       "      <td>Scooter</td>\n",
       "      <td>28</td>\n",
       "      <td>1.0</td>\n",
       "      <td>59</td>\n",
       "    </tr>\n",
       "    <tr>\n",
       "      <th>3</th>\n",
       "      <td>661</td>\n",
       "      <td>7.44</td>\n",
       "      <td>Rainy</td>\n",
       "      <td>Medium</td>\n",
       "      <td>Afternoon</td>\n",
       "      <td>Scooter</td>\n",
       "      <td>5</td>\n",
       "      <td>1.0</td>\n",
       "      <td>37</td>\n",
       "    </tr>\n",
       "    <tr>\n",
       "      <th>4</th>\n",
       "      <td>412</td>\n",
       "      <td>19.03</td>\n",
       "      <td>Clear</td>\n",
       "      <td>Low</td>\n",
       "      <td>Morning</td>\n",
       "      <td>Bike</td>\n",
       "      <td>16</td>\n",
       "      <td>5.0</td>\n",
       "      <td>68</td>\n",
       "    </tr>\n",
       "  </tbody>\n",
       "</table>\n",
       "</div>"
      ],
      "text/plain": [
       "   Order_ID  Distance_km Weather Traffic_Level Time_of_Day Vehicle_Type  \\\n",
       "0       522         7.93   Windy           Low   Afternoon      Scooter   \n",
       "1       738        16.42   Clear        Medium     Evening         Bike   \n",
       "2       741         9.52   Foggy           Low       Night      Scooter   \n",
       "3       661         7.44   Rainy        Medium   Afternoon      Scooter   \n",
       "4       412        19.03   Clear           Low     Morning         Bike   \n",
       "\n",
       "   Preparation_Time_min  Courier_Experience_yrs  Delivery_Time_min  \n",
       "0                    12                     1.0                 43  \n",
       "1                    20                     2.0                 84  \n",
       "2                    28                     1.0                 59  \n",
       "3                     5                     1.0                 37  \n",
       "4                    16                     5.0                 68  "
      ]
     },
     "execution_count": 1860,
     "metadata": {},
     "output_type": "execute_result"
    }
   ],
   "source": [
    "print(\"First few rows of the dataset and shape:\")\n",
    "print(df.shape)\n",
    "df.head()\n"
   ]
  },
  {
   "cell_type": "code",
   "execution_count": 1861,
   "metadata": {},
   "outputs": [
    {
     "name": "stdout",
     "output_type": "stream",
     "text": [
      "\n",
      "Data structure information:\n",
      "<class 'pandas.core.frame.DataFrame'>\n",
      "RangeIndex: 1000 entries, 0 to 999\n",
      "Data columns (total 9 columns):\n",
      " #   Column                  Non-Null Count  Dtype  \n",
      "---  ------                  --------------  -----  \n",
      " 0   Order_ID                1000 non-null   int64  \n",
      " 1   Distance_km             1000 non-null   float64\n",
      " 2   Weather                 970 non-null    object \n",
      " 3   Traffic_Level           970 non-null    object \n",
      " 4   Time_of_Day             970 non-null    object \n",
      " 5   Vehicle_Type            1000 non-null   object \n",
      " 6   Preparation_Time_min    1000 non-null   int64  \n",
      " 7   Courier_Experience_yrs  970 non-null    float64\n",
      " 8   Delivery_Time_min       1000 non-null   int64  \n",
      "dtypes: float64(2), int64(3), object(4)\n",
      "memory usage: 70.4+ KB\n",
      "None\n"
     ]
    }
   ],
   "source": [
    "print(\"\\nData structure information:\")\n",
    "print(df.info())"
   ]
  },
  {
   "cell_type": "code",
   "execution_count": 1862,
   "metadata": {},
   "outputs": [
    {
     "name": "stdout",
     "output_type": "stream",
     "text": [
      "\n",
      "Summary statistics of numerical columns:\n",
      "          Order_ID  Distance_km  Preparation_Time_min  Courier_Experience_yrs  \\\n",
      "count  1000.000000  1000.000000           1000.000000              970.000000   \n",
      "mean    500.500000    10.059970             16.982000                4.579381   \n",
      "std     288.819436     5.696656              7.204553                2.914394   \n",
      "min       1.000000     0.590000              5.000000                0.000000   \n",
      "25%     250.750000     5.105000             11.000000                2.000000   \n",
      "50%     500.500000    10.190000             17.000000                5.000000   \n",
      "75%     750.250000    15.017500             23.000000                7.000000   \n",
      "max    1000.000000    19.990000             29.000000                9.000000   \n",
      "\n",
      "       Delivery_Time_min  \n",
      "count        1000.000000  \n",
      "mean           56.732000  \n",
      "std            22.070915  \n",
      "min             8.000000  \n",
      "25%            41.000000  \n",
      "50%            55.500000  \n",
      "75%            71.000000  \n",
      "max           153.000000  \n"
     ]
    }
   ],
   "source": [
    "print(\"\\nSummary statistics of numerical columns:\")\n",
    "print(df.describe())"
   ]
  },
  {
   "cell_type": "code",
   "execution_count": 1863,
   "metadata": {},
   "outputs": [
    {
     "name": "stdout",
     "output_type": "stream",
     "text": [
      "\n",
      "Summary statistics of categorical columns:\n",
      "       Weather Traffic_Level Time_of_Day Vehicle_Type\n",
      "count      970           970         970         1000\n",
      "unique       5             3           4            3\n",
      "top      Clear        Medium     Morning         Bike\n",
      "freq       470           390         308          503\n"
     ]
    }
   ],
   "source": [
    "print(\"\\nSummary statistics of categorical columns:\")\n",
    "print(df.describe(include='O'))"
   ]
  },
  {
   "cell_type": "code",
   "execution_count": 1864,
   "metadata": {},
   "outputs": [
    {
     "name": "stdout",
     "output_type": "stream",
     "text": [
      "\n",
      "Data types of each column:\n",
      "Order_ID                    int64\n",
      "Distance_km               float64\n",
      "Weather                    object\n",
      "Traffic_Level              object\n",
      "Time_of_Day                object\n",
      "Vehicle_Type               object\n",
      "Preparation_Time_min        int64\n",
      "Courier_Experience_yrs    float64\n",
      "Delivery_Time_min           int64\n",
      "dtype: object\n"
     ]
    }
   ],
   "source": [
    "print(\"\\nData types of each column:\")\n",
    "print(df.dtypes)"
   ]
  },
  {
   "cell_type": "code",
   "execution_count": 1865,
   "metadata": {},
   "outputs": [
    {
     "name": "stdout",
     "output_type": "stream",
     "text": [
      "\n",
      "Unique values in each column:\n",
      "Order_ID                  1000\n",
      "Distance_km                785\n",
      "Weather                      5\n",
      "Traffic_Level                3\n",
      "Time_of_Day                  4\n",
      "Vehicle_Type                 3\n",
      "Preparation_Time_min        25\n",
      "Courier_Experience_yrs      10\n",
      "Delivery_Time_min          108\n",
      "dtype: int64\n"
     ]
    }
   ],
   "source": [
    "print(\"\\nUnique values in each column:\")\n",
    "print(df.nunique())"
   ]
  },
  {
   "cell_type": "code",
   "execution_count": 1866,
   "metadata": {},
   "outputs": [
    {
     "name": "stdout",
     "output_type": "stream",
     "text": [
      "\n",
      "Value counts for the 'Weather' column:\n",
      "Weather\n",
      "Clear    470\n",
      "Rainy    204\n",
      "Foggy    103\n",
      "Snowy     97\n",
      "Windy     96\n",
      "Name: count, dtype: int64\n"
     ]
    }
   ],
   "source": [
    "print(\"\\nValue counts for the 'Weather' column:\")\n",
    "print(df['Weather'].value_counts())"
   ]
  },
  {
   "cell_type": "code",
   "execution_count": 1867,
   "metadata": {},
   "outputs": [
    {
     "name": "stdout",
     "output_type": "stream",
     "text": [
      "\n",
      "Number of duplicate rows:\n",
      "0\n"
     ]
    }
   ],
   "source": [
    "print(\"\\nNumber of duplicate rows:\")\n",
    "print(df.duplicated().sum())"
   ]
  },
  {
   "cell_type": "markdown",
   "metadata": {},
   "source": [
    "### Target"
   ]
  },
  {
   "cell_type": "code",
   "execution_count": 1868,
   "metadata": {},
   "outputs": [],
   "source": [
    "X = df.drop('Delivery_Time_min', axis=1)\n",
    "y = df['Delivery_Time_min']"
   ]
  },
  {
   "cell_type": "markdown",
   "metadata": {},
   "source": [
    "# Handle Missing Values (Imputation)"
   ]
  },
  {
   "cell_type": "code",
   "execution_count": 1869,
   "metadata": {},
   "outputs": [],
   "source": [
    "# Drop rows with missing values\n",
    "df.drop(columns=['Order_ID'], axis=1, inplace=True)        \n",
    "\n",
    "# Drop duplicate rows\n",
    "df = df.drop_duplicates()\n",
    "\n",
    "# numeric and categorical features\n",
    "numeric_features = df.select_dtypes(exclude=['object']).columns\n",
    "categorical_features = df.select_dtypes(include=['object']).columns\n",
    "\n",
    "# Impute missing values\n",
    "numeric_imputer = SimpleImputer(strategy='median')\n",
    "categorical_imputer = SimpleImputer(strategy='most_frequent')\n",
    "\n",
    "# Imputer to fill null values\n",
    "df[numeric_features] = numeric_imputer.fit_transform(df[numeric_features])\n",
    "df[categorical_features] = categorical_imputer.fit_transform(df[categorical_features])"
   ]
  },
  {
   "cell_type": "code",
   "execution_count": 1870,
   "metadata": {},
   "outputs": [
    {
     "data": {
      "text/plain": [
       "Distance_km               0\n",
       "Weather                   0\n",
       "Traffic_Level             0\n",
       "Time_of_Day               0\n",
       "Vehicle_Type              0\n",
       "Preparation_Time_min      0\n",
       "Courier_Experience_yrs    0\n",
       "Delivery_Time_min         0\n",
       "dtype: int64"
      ]
     },
     "execution_count": 1870,
     "metadata": {},
     "output_type": "execute_result"
    }
   ],
   "source": [
    "# Check for missing values\n",
    "df.isnull().sum()"
   ]
  },
  {
   "cell_type": "markdown",
   "metadata": {},
   "source": [
    "# EDA"
   ]
  },
  {
   "cell_type": "code",
   "execution_count": 1871,
   "metadata": {},
   "outputs": [
    {
     "data": {
      "image/png": "[encoded data removed]",
      "text/plain": [
       "<Figure size 1000x400 with 4 Axes>"
      ]
     },
     "metadata": {},
     "output_type": "display_data"
    }
   ],
   "source": [
    "plt.figure(figsize=(10, 4))\n",
    "\n",
    "for i, col in enumerate(numeric_features):\n",
    "    plt.subplot(1, len(numeric_features), i + 1)\n",
    "    sns.boxplot(y=df[col])\n",
    "    plt.title(col)\n",
    "\n",
    "plt.tight_layout()\n",
    "plt.show()"
   ]
  },
  {
   "cell_type": "markdown",
   "metadata": {},
   "source": [
    "## Categorical features - Value counts"
   ]
  },
  {
   "cell_type": "code",
   "execution_count": 1872,
   "metadata": {},
   "outputs": [
    {
     "data": {
      "image/png": "[encoded data removed]",
      "text/plain": [
       "<Figure size 1000x500 with 4 Axes>"
      ]
     },
     "metadata": {},
     "output_type": "display_data"
    }
   ],
   "source": [
    "plt.figure(figsize=(10, 5))\n",
    "\n",
    "for i, col in enumerate(categorical_features):\n",
    "    plt.subplot((len(categorical_features)+1)//2, 2, i + 1)\n",
    "    # sns.boxplot(y=df[col])\n",
    "    df[col].value_counts().plot(kind='bar')\n",
    "    # plt.title(col)\n",
    "\n",
    "plt.tight_layout()\n",
    "plt.show()"
   ]
  },
  {
   "cell_type": "markdown",
   "metadata": {},
   "source": [
    "## Heatmap to visualize correlations between features"
   ]
  },
  {
   "cell_type": "code",
   "execution_count": 1873,
   "metadata": {},
   "outputs": [
    {
     "data": {
      "text/plain": [
       "<Axes: >"
      ]
     },
     "execution_count": 1873,
     "metadata": {},
     "output_type": "execute_result"
    },
    {
     "data": {
      "image/png": "[encoded data removed]",
      "text/plain": [
       "<Figure size 640x480 with 2 Axes>"
      ]
     },
     "metadata": {},
     "output_type": "display_data"
    }
   ],
   "source": [
    "numeric_columns = X.select_dtypes(exclude=['object']).columns\n",
    "c= X[numeric_columns].corr()\n",
    "sns.heatmap(c, annot=True)"
   ]
  },
  {
   "cell_type": "code",
   "execution_count": 1874,
   "metadata": {},
   "outputs": [
    {
     "data": {
      "text/html": [
       "<div>\n",
       "<style scoped>\n",
       "    .dataframe tbody tr th:only-of-type {\n",
       "        vertical-align: middle;\n",
       "    }\n",
       "\n",
       "    .dataframe tbody tr th {\n",
       "        vertical-align: top;\n",
       "    }\n",
       "\n",
       "    .dataframe thead th {\n",
       "        text-align: right;\n",
       "    }\n",
       "</style>\n",
       "<table border=\"1\" class=\"dataframe\">\n",
       "  <thead>\n",
       "    <tr style=\"text-align: right;\">\n",
       "      <th></th>\n",
       "      <th>Order_ID</th>\n",
       "      <th>Distance_km</th>\n",
       "      <th>Preparation_Time_min</th>\n",
       "      <th>Courier_Experience_yrs</th>\n",
       "      <th>Weather_Foggy</th>\n",
       "      <th>Weather_Rainy</th>\n",
       "      <th>Weather_Snowy</th>\n",
       "      <th>Weather_Windy</th>\n",
       "      <th>Traffic_Level_Low</th>\n",
       "      <th>Traffic_Level_Medium</th>\n",
       "      <th>Time_of_Day_Evening</th>\n",
       "      <th>Time_of_Day_Morning</th>\n",
       "      <th>Time_of_Day_Night</th>\n",
       "      <th>Vehicle_Type_Car</th>\n",
       "      <th>Vehicle_Type_Scooter</th>\n",
       "    </tr>\n",
       "  </thead>\n",
       "  <tbody>\n",
       "    <tr>\n",
       "      <th>0</th>\n",
       "      <td>522</td>\n",
       "      <td>7.93</td>\n",
       "      <td>12</td>\n",
       "      <td>1.0</td>\n",
       "      <td>False</td>\n",
       "      <td>False</td>\n",
       "      <td>False</td>\n",
       "      <td>True</td>\n",
       "      <td>True</td>\n",
       "      <td>False</td>\n",
       "      <td>False</td>\n",
       "      <td>False</td>\n",
       "      <td>False</td>\n",
       "      <td>False</td>\n",
       "      <td>True</td>\n",
       "    </tr>\n",
       "    <tr>\n",
       "      <th>1</th>\n",
       "      <td>738</td>\n",
       "      <td>16.42</td>\n",
       "      <td>20</td>\n",
       "      <td>2.0</td>\n",
       "      <td>False</td>\n",
       "      <td>False</td>\n",
       "      <td>False</td>\n",
       "      <td>False</td>\n",
       "      <td>False</td>\n",
       "      <td>True</td>\n",
       "      <td>True</td>\n",
       "      <td>False</td>\n",
       "      <td>False</td>\n",
       "      <td>False</td>\n",
       "      <td>False</td>\n",
       "    </tr>\n",
       "    <tr>\n",
       "      <th>2</th>\n",
       "      <td>741</td>\n",
       "      <td>9.52</td>\n",
       "      <td>28</td>\n",
       "      <td>1.0</td>\n",
       "      <td>True</td>\n",
       "      <td>False</td>\n",
       "      <td>False</td>\n",
       "      <td>False</td>\n",
       "      <td>True</td>\n",
       "      <td>False</td>\n",
       "      <td>False</td>\n",
       "      <td>False</td>\n",
       "      <td>True</td>\n",
       "      <td>False</td>\n",
       "      <td>True</td>\n",
       "    </tr>\n",
       "    <tr>\n",
       "      <th>3</th>\n",
       "      <td>661</td>\n",
       "      <td>7.44</td>\n",
       "      <td>5</td>\n",
       "      <td>1.0</td>\n",
       "      <td>False</td>\n",
       "      <td>True</td>\n",
       "      <td>False</td>\n",
       "      <td>False</td>\n",
       "      <td>False</td>\n",
       "      <td>True</td>\n",
       "      <td>False</td>\n",
       "      <td>False</td>\n",
       "      <td>False</td>\n",
       "      <td>False</td>\n",
       "      <td>True</td>\n",
       "    </tr>\n",
       "    <tr>\n",
       "      <th>4</th>\n",
       "      <td>412</td>\n",
       "      <td>19.03</td>\n",
       "      <td>16</td>\n",
       "      <td>5.0</td>\n",
       "      <td>False</td>\n",
       "      <td>False</td>\n",
       "      <td>False</td>\n",
       "      <td>False</td>\n",
       "      <td>True</td>\n",
       "      <td>False</td>\n",
       "      <td>False</td>\n",
       "      <td>True</td>\n",
       "      <td>False</td>\n",
       "      <td>False</td>\n",
       "      <td>False</td>\n",
       "    </tr>\n",
       "    <tr>\n",
       "      <th>...</th>\n",
       "      <td>...</td>\n",
       "      <td>...</td>\n",
       "      <td>...</td>\n",
       "      <td>...</td>\n",
       "      <td>...</td>\n",
       "      <td>...</td>\n",
       "      <td>...</td>\n",
       "      <td>...</td>\n",
       "      <td>...</td>\n",
       "      <td>...</td>\n",
       "      <td>...</td>\n",
       "      <td>...</td>\n",
       "      <td>...</td>\n",
       "      <td>...</td>\n",
       "      <td>...</td>\n",
       "    </tr>\n",
       "    <tr>\n",
       "      <th>995</th>\n",
       "      <td>107</td>\n",
       "      <td>8.50</td>\n",
       "      <td>13</td>\n",
       "      <td>3.0</td>\n",
       "      <td>False</td>\n",
       "      <td>False</td>\n",
       "      <td>False</td>\n",
       "      <td>False</td>\n",
       "      <td>False</td>\n",
       "      <td>False</td>\n",
       "      <td>True</td>\n",
       "      <td>False</td>\n",
       "      <td>False</td>\n",
       "      <td>True</td>\n",
       "      <td>False</td>\n",
       "    </tr>\n",
       "    <tr>\n",
       "      <th>996</th>\n",
       "      <td>271</td>\n",
       "      <td>16.28</td>\n",
       "      <td>8</td>\n",
       "      <td>9.0</td>\n",
       "      <td>False</td>\n",
       "      <td>True</td>\n",
       "      <td>False</td>\n",
       "      <td>False</td>\n",
       "      <td>True</td>\n",
       "      <td>False</td>\n",
       "      <td>False</td>\n",
       "      <td>True</td>\n",
       "      <td>False</td>\n",
       "      <td>False</td>\n",
       "      <td>True</td>\n",
       "    </tr>\n",
       "    <tr>\n",
       "      <th>997</th>\n",
       "      <td>861</td>\n",
       "      <td>15.62</td>\n",
       "      <td>26</td>\n",
       "      <td>2.0</td>\n",
       "      <td>False</td>\n",
       "      <td>False</td>\n",
       "      <td>True</td>\n",
       "      <td>False</td>\n",
       "      <td>False</td>\n",
       "      <td>False</td>\n",
       "      <td>True</td>\n",
       "      <td>False</td>\n",
       "      <td>False</td>\n",
       "      <td>False</td>\n",
       "      <td>True</td>\n",
       "    </tr>\n",
       "    <tr>\n",
       "      <th>998</th>\n",
       "      <td>436</td>\n",
       "      <td>14.17</td>\n",
       "      <td>8</td>\n",
       "      <td>0.0</td>\n",
       "      <td>False</td>\n",
       "      <td>False</td>\n",
       "      <td>False</td>\n",
       "      <td>False</td>\n",
       "      <td>True</td>\n",
       "      <td>False</td>\n",
       "      <td>False</td>\n",
       "      <td>False</td>\n",
       "      <td>False</td>\n",
       "      <td>False</td>\n",
       "      <td>False</td>\n",
       "    </tr>\n",
       "    <tr>\n",
       "      <th>999</th>\n",
       "      <td>103</td>\n",
       "      <td>6.63</td>\n",
       "      <td>24</td>\n",
       "      <td>3.0</td>\n",
       "      <td>True</td>\n",
       "      <td>False</td>\n",
       "      <td>False</td>\n",
       "      <td>False</td>\n",
       "      <td>True</td>\n",
       "      <td>False</td>\n",
       "      <td>False</td>\n",
       "      <td>False</td>\n",
       "      <td>True</td>\n",
       "      <td>False</td>\n",
       "      <td>True</td>\n",
       "    </tr>\n",
       "  </tbody>\n",
       "</table>\n",
       "<p>1000 rows × 15 columns</p>\n",
       "</div>"
      ],
      "text/plain": [
       "     Order_ID  Distance_km  Preparation_Time_min  Courier_Experience_yrs  \\\n",
       "0         522         7.93                    12                     1.0   \n",
       "1         738        16.42                    20                     2.0   \n",
       "2         741         9.52                    28                     1.0   \n",
       "3         661         7.44                     5                     1.0   \n",
       "4         412        19.03                    16                     5.0   \n",
       "..        ...          ...                   ...                     ...   \n",
       "995       107         8.50                    13                     3.0   \n",
       "996       271        16.28                     8                     9.0   \n",
       "997       861        15.62                    26                     2.0   \n",
       "998       436        14.17                     8                     0.0   \n",
       "999       103         6.63                    24                     3.0   \n",
       "\n",
       "     Weather_Foggy  Weather_Rainy  Weather_Snowy  Weather_Windy  \\\n",
       "0            False          False          False           True   \n",
       "1            False          False          False          False   \n",
       "2             True          False          False          False   \n",
       "3            False           True          False          False   \n",
       "4            False          False          False          False   \n",
       "..             ...            ...            ...            ...   \n",
       "995          False          False          False          False   \n",
       "996          False           True          False          False   \n",
       "997          False          False           True          False   \n",
       "998          False          False          False          False   \n",
       "999           True          False          False          False   \n",
       "\n",
       "     Traffic_Level_Low  Traffic_Level_Medium  Time_of_Day_Evening  \\\n",
       "0                 True                 False                False   \n",
       "1                False                  True                 True   \n",
       "2                 True                 False                False   \n",
       "3                False                  True                False   \n",
       "4                 True                 False                False   \n",
       "..                 ...                   ...                  ...   \n",
       "995              False                 False                 True   \n",
       "996               True                 False                False   \n",
       "997              False                 False                 True   \n",
       "998               True                 False                False   \n",
       "999               True                 False                False   \n",
       "\n",
       "     Time_of_Day_Morning  Time_of_Day_Night  Vehicle_Type_Car  \\\n",
       "0                  False              False             False   \n",
       "1                  False              False             False   \n",
       "2                  False               True             False   \n",
       "3                  False              False             False   \n",
       "4                   True              False             False   \n",
       "..                   ...                ...               ...   \n",
       "995                False              False              True   \n",
       "996                 True              False             False   \n",
       "997                False              False             False   \n",
       "998                False              False             False   \n",
       "999                False               True             False   \n",
       "\n",
       "     Vehicle_Type_Scooter  \n",
       "0                    True  \n",
       "1                   False  \n",
       "2                    True  \n",
       "3                    True  \n",
       "4                   False  \n",
       "..                    ...  \n",
       "995                 False  \n",
       "996                  True  \n",
       "997                  True  \n",
       "998                 False  \n",
       "999                  True  \n",
       "\n",
       "[1000 rows x 15 columns]"
      ]
     },
     "execution_count": 1874,
     "metadata": {},
     "output_type": "execute_result"
    }
   ],
   "source": [
    "X = pd.get_dummies(\n",
    "            X,\n",
    "            columns=categorical_features,\n",
    "            drop_first=True)\n",
    "X"
   ]
  },
  {
   "cell_type": "markdown",
   "metadata": {},
   "source": [
    "### Histogram"
   ]
  },
  {
   "cell_type": "code",
   "execution_count": 1875,
   "metadata": {},
   "outputs": [
    {
     "data": {
      "image/png": "[encoded data removed]",
      "text/plain": [
       "<Figure size 800x500 with 1 Axes>"
      ]
     },
     "metadata": {},
     "output_type": "display_data"
    }
   ],
   "source": [
    "\n",
    "plt.figure(figsize=(8, 5))\n",
    "sns.histplot(y, bins=30, kde=True)\n",
    "plt.title(\"Distribution of Delivery Time\")\n",
    "plt.xlabel(\"Delivery Time (minutes)\")\n",
    "plt.ylabel(\"Frequency\")\n",
    "plt.show()"
   ]
  },
  {
   "cell_type": "markdown",
   "metadata": {},
   "source": [
    "### Boxplot for outlier detection"
   ]
  },
  {
   "cell_type": "markdown",
   "metadata": {},
   "source": [
    "### Skewness & Kurtosis"
   ]
  },
  {
   "cell_type": "code",
   "execution_count": 1876,
   "metadata": {},
   "outputs": [
    {
     "name": "stdout",
     "output_type": "stream",
     "text": [
      "Skewness: 0.5072511816152696\n",
      "Kurtosis: 0.29133821183324615\n"
     ]
    }
   ],
   "source": [
    "print(\"Skewness:\", y.skew())\n",
    "print(\"Kurtosis:\", y.kurtosis())\n"
   ]
  },
  {
   "cell_type": "markdown",
   "metadata": {},
   "source": [
    "## Train Split"
   ]
  },
  {
   "cell_type": "code",
   "execution_count": 1877,
   "metadata": {},
   "outputs": [
    {
     "name": "stdout",
     "output_type": "stream",
     "text": [
      "\n",
      "Value Counts for Target Variable (Random Split):\n",
      "Training set ():\n",
      "Delivery_Time_min\n",
      "71     0.02625\n",
      "48     0.02375\n",
      "65     0.02250\n",
      "44     0.02250\n",
      "49     0.02125\n",
      "        ...   \n",
      "106    0.00125\n",
      "88     0.00125\n",
      "102    0.00125\n",
      "115    0.00125\n",
      "90     0.00125\n",
      "Name: proportion, Length: 107, dtype: float64\n",
      "\n",
      "Validation set ():\n",
      "\n",
      "Test set ():\n",
      "Delivery_Time_min\n",
      "57    0.045\n",
      "63    0.035\n",
      "35    0.035\n",
      "43    0.030\n",
      "51    0.030\n",
      "      ...  \n",
      "82    0.005\n",
      "26    0.005\n",
      "74    0.005\n",
      "33    0.005\n",
      "29    0.005\n",
      "Name: proportion, Length: 74, dtype: float64\n"
     ]
    }
   ],
   "source": [
    "X_train, X_test, y_train, y_test = train_test_split(X, y, test_size=0.2, random_state=42)\n",
    "\n",
    "print(\"\\nValue Counts for Target Variable (Random Split):\")\n",
    "print(\"Training set ():\")\n",
    "print(y_train.value_counts(normalize=True)) \n",
    "print(\"\\nValidation set ():\")\n",
    "print(\"\\nTest set ():\")\n",
    "print(y_test.value_counts(normalize=True))   "
   ]
  },
  {
   "cell_type": "code",
   "execution_count": 1878,
   "metadata": {},
   "outputs": [
    {
     "name": "stdout",
     "output_type": "stream",
     "text": [
      "\n",
      "Train shape: (800, 15) Test shape: (200, 15)\n"
     ]
    }
   ],
   "source": [
    "print(\"\\nTrain shape:\", X_train.shape, \"Test shape:\", X_test.shape)"
   ]
  },
  {
   "cell_type": "markdown",
   "metadata": {},
   "source": [
    "# Model Training"
   ]
  },
  {
   "cell_type": "code",
   "execution_count": 1879,
   "metadata": {},
   "outputs": [],
   "source": [
    "# Define a function for training and evaluating models\n",
    "def train_and_evaluate(models, X_train, y_train, X_test, y_test):\n",
    "    results = {}\n",
    "    for name, model in models.items():\n",
    "        model.fit(X_train, y_train)\n",
    "        \n",
    "        # Predictions\n",
    "        y_pred = model.predict(X_test)\n",
    "        \n",
    "        # Evaluation Metrics\n",
    "        mae = mean_absolute_error(y_test, y_pred)\n",
    "        mse = mean_squared_error(y_test, y_pred)\n",
    "        rmse = np.sqrt(mse)\n",
    "        r2 = r2_score(y_test, y_pred)\n",
    "        \n",
    "        # Store results\n",
    "        results[name] = {'R2 score': r2,'MSE':mse,'RMSE': rmse,'MAE':mae}\n",
    "        \n",
    "    results = pd.DataFrame(results)\n",
    "    return results"
   ]
  },
  {
   "cell_type": "code",
   "execution_count": 1880,
   "metadata": {},
   "outputs": [],
   "source": [
    "from sklearn.impute import SimpleImputer\n",
    "\n",
    "imputer = SimpleImputer(strategy='mean') \n",
    "X_train = imputer.fit_transform(X_train) \n",
    "X_test = imputer.transform(X_test)\n"
   ]
  },
  {
   "cell_type": "code",
   "execution_count": 1881,
   "metadata": {},
   "outputs": [],
   "source": [
    "# Define models\n",
    "lr_model = LinearRegression()\n",
    "rfr_model = RandomForestRegressor(n_estimators=100, random_state=42)\n",
    "xgb_model = XGBRegressor(n_estimators=100,learning_rate=0.1,random_state=42)\n",
    "\n",
    "models = {\n",
    "    \"XGBoost Regressor\": xgb_model,\n",
    "    \"Random Forest Regressor\": rfr_model,\n",
    "    \"Linear Regression\": lr_model\n",
    "}\n",
    "\n",
    "# Call the function\n",
    "results = train_and_evaluate(models, X_train, y_train, X_test, y_test)"
   ]
  },
  {
   "cell_type": "code",
   "execution_count": 1882,
   "metadata": {},
   "outputs": [
    {
     "data": {
      "text/html": [
       "<div>\n",
       "<style scoped>\n",
       "    .dataframe tbody tr th:only-of-type {\n",
       "        vertical-align: middle;\n",
       "    }\n",
       "\n",
       "    .dataframe tbody tr th {\n",
       "        vertical-align: top;\n",
       "    }\n",
       "\n",
       "    .dataframe thead th {\n",
       "        text-align: right;\n",
       "    }\n",
       "</style>\n",
       "<table border=\"1\" class=\"dataframe\">\n",
       "  <thead>\n",
       "    <tr style=\"text-align: right;\">\n",
       "      <th></th>\n",
       "      <th>XGBoost Regressor</th>\n",
       "      <th>Random Forest Regressor</th>\n",
       "      <th>Linear Regression</th>\n",
       "    </tr>\n",
       "  </thead>\n",
       "  <tbody>\n",
       "    <tr>\n",
       "      <th>R2 score</th>\n",
       "      <td>0.726124</td>\n",
       "      <td>0.738008</td>\n",
       "      <td>0.821913</td>\n",
       "    </tr>\n",
       "    <tr>\n",
       "      <th>MSE</th>\n",
       "      <td>122.758812</td>\n",
       "      <td>117.431765</td>\n",
       "      <td>79.823304</td>\n",
       "    </tr>\n",
       "    <tr>\n",
       "      <th>RMSE</th>\n",
       "      <td>11.079658</td>\n",
       "      <td>10.836594</td>\n",
       "      <td>8.934389</td>\n",
       "    </tr>\n",
       "    <tr>\n",
       "      <th>MAE</th>\n",
       "      <td>7.792880</td>\n",
       "      <td>7.547700</td>\n",
       "      <td>5.999335</td>\n",
       "    </tr>\n",
       "  </tbody>\n",
       "</table>\n",
       "</div>"
      ],
      "text/plain": [
       "          XGBoost Regressor  Random Forest Regressor  Linear Regression\n",
       "R2 score           0.726124                 0.738008           0.821913\n",
       "MSE              122.758812               117.431765          79.823304\n",
       "RMSE              11.079658                10.836594           8.934389\n",
       "MAE                7.792880                 7.547700           5.999335"
      ]
     },
     "execution_count": 1882,
     "metadata": {},
     "output_type": "execute_result"
    }
   ],
   "source": [
    "results"
   ]
  },
  {
   "cell_type": "markdown",
   "metadata": {},
   "source": [
    "# Save the best model"
   ]
  },
  {
   "cell_type": "code",
   "execution_count": 1883,
   "metadata": {},
   "outputs": [],
   "source": [
    "model_path = 'Linear_Regression_model.pkl'\n",
    "model = lr_model\n",
    "\n",
    "with open(model_path, 'wb') as file:\n",
    "    pickle.dump(model, file)"
   ]
  },
  {
   "cell_type": "markdown",
   "metadata": {},
   "source": [
    "### Explore relationships between features and other features"
   ]
  },
  {
   "cell_type": "code",
   "execution_count": 1884,
   "metadata": {},
   "outputs": [
    {
     "name": "stdout",
     "output_type": "stream",
     "text": [
      "                        Distance_km  Preparation_Time_min  \\\n",
      "Distance_km                1.000000             -0.009025   \n",
      "Preparation_Time_min      -0.009025              1.000000   \n",
      "Courier_Experience_yrs    -0.005951             -0.031124   \n",
      "Delivery_Time_min          0.816535              0.305535   \n",
      "\n",
      "                        Courier_Experience_yrs  Delivery_Time_min  \n",
      "Distance_km                          -0.005951           0.816535  \n",
      "Preparation_Time_min                 -0.031124           0.305535  \n",
      "Courier_Experience_yrs                1.000000          -0.085540  \n",
      "Delivery_Time_min                    -0.085540           1.000000  \n"
     ]
    },
    {
     "data": {
      "image/png": "[encoded data removed]",
      "text/plain": [
       "<Figure size 800x700 with 2 Axes>"
      ]
     },
     "metadata": {},
     "output_type": "display_data"
    }
   ],
   "source": [
    "numeric_df = df.select_dtypes(include=['number'])\n",
    "spearman_corr = numeric_df.corr(method='spearman')\n",
    "\n",
    "\n",
    "print(spearman_corr)\n",
    "\n",
    "\n",
    "plt.figure(figsize=(8, 7))\n",
    "sns.heatmap(spearman_corr, annot=True, fmt=\".2f\", cmap='coolwarm', cbar=True)\n",
    "plt.title('Spearman Correlation Matrix')\n",
    "plt.show()"
   ]
  }
 ],
 "metadata": {
  "kernelspec": {
   "display_name": ".venv",
   "language": "python",
   "name": "python3"
  },
  "language_info": {
   "codemirror_mode": {
    "name": "ipython",
    "version": 3
   },
   "file_extension": ".py",
   "mimetype": "text/x-python",
   "name": "python",
   "nbconvert_exporter": "python",
   "pygments_lexer": "ipython3",
   "version": "3.10.3"
  }
 },
 "nbformat": 4,
 "nbformat_minor": 2
}
